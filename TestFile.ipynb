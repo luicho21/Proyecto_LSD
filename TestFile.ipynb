{
 "cells": [
  {
   "cell_type": "code",
   "execution_count": 1,
   "metadata": {},
   "outputs": [
    {
     "name": "stderr",
     "output_type": "stream",
     "text": [
      "Using TensorFlow backend.\n",
      "c:\\users\\luis\\anaconda3\\envs\\keras_tf35_gpu\\lib\\site-packages\\keras\\models.py:252: UserWarning: No training configuration found in save file: the model was *not* compiled. Compile it manually.\n",
      "  warnings.warn('No training configuration found in save file: '\n"
     ]
    }
   ],
   "source": [
    "# %matplotlib inline\n",
    "# %load_ext autoreload\n",
    "# %autoreload 2\n",
    "\n",
    "import keras\n",
    "import keras.preprocessing.image\n",
    "from keras_retinanet.models.resnet import custom_objects\n",
    "from keras_retinanet.preprocessing.coco import CocoGenerator\n",
    "\n",
    "import matplotlib.pyplot as plt\n",
    "import cv2\n",
    "import os\n",
    "import numpy as np\n",
    "import time\n",
    "import argparse\n",
    "import tensorflow as tf\n",
    "\n",
    "def get_session():\n",
    "    config = tf.ConfigProto()\n",
    "    config.gpu_options.allow_growth = True\n",
    "    return tf.Session(config=config)\n",
    "\n",
    "# # construct the argument parse and parse the arguments\n",
    "# ap = argparse.ArgumentParser()\n",
    "# ap.add_argument(\"-i\", \"--image\", required=True,\n",
    "# \thelp=\"path to input image\")\n",
    "# # ap.add_argument(\"-m\", \"--model\", required=True,\n",
    "# \t# help=\"path to output model\")\n",
    "# # ap.add_argument(\"-p\", \"--plot\", type=str, default=\"plot.png\",\n",
    "# \t# help=\"path to output loss/accuracy plot\")\n",
    "# args = vars(ap.parse_args())\n",
    "\t\n",
    "\t\n",
    "# os.environ[\"CUDA_VISIBLE_DEVICES\"] = \"0\"\n",
    "keras.backend.tensorflow_backend.set_session(get_session())\n",
    "\n",
    "model = keras.models.load_model('D:\\\\Luis\\\\codigos\\\\snapshotTomate\\\\resnet50_pascal_50.h5', custom_objects=custom_objects)\n"
   ]
  },
  {
   "cell_type": "code",
   "execution_count": 2,
   "metadata": {},
   "outputs": [],
   "source": [
    "# image = cv2.imread(\"D:\\\\Luis\\\\codigos\\\\deep learning\\\\basketball\\\\JPEGImages\\\\n02802426_9097.jpeg\")\n",
    "image = cv2.imread(\"D:\\\\Luis\\\\codigos\\\\deep learning\\\\google-images-deep-learning\\\\new_dataset\\\\tg324.jpg\")\n"
   ]
  },
  {
   "cell_type": "code",
   "execution_count": 3,
   "metadata": {},
   "outputs": [],
   "source": [
    "# print(image)"
   ]
  },
  {
   "cell_type": "code",
   "execution_count": 4,
   "metadata": {},
   "outputs": [],
   "source": [
    "\n",
    "draw = image.copy()\n",
    "draw = cv2.cvtColor(draw, cv2.COLOR_BGR2RGB)\n",
    "\n",
    "_, _, detections = model.predict_on_batch(np.expand_dims(image, axis=0))"
   ]
  },
  {
   "cell_type": "code",
   "execution_count": 5,
   "metadata": {},
   "outputs": [
    {
     "name": "stdout",
     "output_type": "stream",
     "text": [
      "Detections shape  (1, 300, 5)\n",
      "[[[ 0.63457936]\n",
      "  [ 0.12481045]\n",
      "  [ 0.07990058]]]\n",
      "Scores shape >  [ 0.63457936  0.12481045  0.07990058  0.07525232  0.07234249  0.07177046\n",
      "  0.05332374  0.05284573  0.05166609  0.05115531  0.04997306  0.04733041\n",
      "  0.04724183  0.04245664  0.04195876  0.04141873  0.03834939  0.038036\n",
      "  0.03782794  0.03673331  0.03606278  0.03532884  0.03532501  0.0347353\n",
      "  0.03426781  0.03373549  0.03335676  0.03325985  0.03302293  0.03106901\n",
      "  0.03085902  0.03010607  0.02923322  0.02884242  0.02748075  0.02733579\n",
      "  0.02725508  0.02654278  0.02612474  0.02605693  0.02603964  0.02560529\n",
      "  0.02559678  0.02556889  0.0255501   0.02538904  0.02526366  0.02516544\n",
      "  0.0248577   0.02448154  0.02447815  0.02440155  0.02434118  0.02408039\n",
      "  0.0240757   0.02389026  0.02384279  0.02376476  0.02372643  0.02361363\n",
      "  0.02359428  0.02331918  0.02330171  0.02311261  0.02304434  0.02289181\n",
      "  0.02288029  0.02261185  0.02256571  0.02221029  0.0219523   0.02170469\n",
      "  0.02167946  0.02161888  0.02161458  0.02152268  0.02136092  0.02128164\n",
      "  0.02127949  0.02112471  0.0210273   0.0210189   0.02101017  0.02100352\n",
      "  0.02087031  0.02067133  0.0206548   0.02062935  0.02055028  0.02042602\n",
      "  0.02036313  0.02034429  0.02033289  0.02013531  0.02012626  0.01987999\n",
      "  0.01986534  0.01985514  0.01984845  0.01981723  0.01979472  0.01970766\n",
      "  0.01960017  0.01958553  0.01953098  0.01952877  0.019503    0.01946224\n",
      "  0.01945919  0.01939394  0.01938872  0.0193447   0.01926723  0.01923851\n",
      "  0.0192374   0.01923483  0.01911197  0.01909992  0.01908813  0.01904987\n",
      "  0.01904853  0.01903399  0.01899916  0.0189919   0.0189544   0.01894777\n",
      "  0.01890923  0.01890228  0.01888987  0.01886112  0.01886041  0.01885005\n",
      "  0.01880921  0.01880759  0.01877463  0.01876136  0.01876107  0.01875373\n",
      "  0.01870449  0.0187008   0.01867379  0.01867225  0.01864335  0.01862326\n",
      "  0.01856601  0.0185485   0.01853689  0.01852126  0.01849921  0.01848267\n",
      "  0.01845307  0.01843425  0.01842214  0.0184021   0.01838607  0.01836751\n",
      "  0.01832819  0.01830754  0.01826797  0.01825667  0.01825257  0.01822921\n",
      "  0.01821636  0.01819625  0.01816734  0.01816458  0.01814494  0.01810746\n",
      "  0.01809431  0.01808767  0.01807939  0.01807577  0.01807421  0.01806919\n",
      "  0.01805679  0.01805563  0.01803382  0.01800339  0.01798109  0.01797702\n",
      "  0.01796025  0.01791975  0.01785169  0.01783931  0.01783248  0.01782705\n",
      "  0.0178121   0.01779319  0.01776715  0.01776264  0.01773578  0.01770853\n",
      "  0.01769918  0.01766501  0.0176618   0.01764555  0.0176409   0.01762821\n",
      "  0.01760222  0.01759729  0.01759551  0.01757458  0.01757085  0.01754985\n",
      "  0.01751593  0.01751561  0.01750273  0.01750052  0.01749232  0.01744888\n",
      "  0.01744214  0.0174187   0.01741808  0.01741779  0.01741762  0.0174101\n",
      "  0.0173732   0.01736525  0.01735675  0.01734497  0.01732488  0.01732479\n",
      "  0.01732269  0.01731495  0.01729637  0.0172926   0.01728104  0.01727598\n",
      "  0.01722663  0.01722372  0.01718359  0.01716671  0.01715419  0.01711843\n",
      "  0.01710717  0.01709274  0.01707477  0.01706586  0.01705971  0.01705635\n",
      "  0.01704832  0.01702082  0.01701241  0.01698437  0.01698319  0.01697852\n",
      "  0.01697209  0.01693277  0.01692866  0.01691518  0.01690757  0.01689219\n",
      "  0.01687219  0.01686892  0.01682105  0.01681706  0.01681049  0.01677764\n",
      "  0.01673423  0.01672724  0.01672405  0.0167038   0.01667845  0.01667444\n",
      "  0.01664092  0.01662888  0.01662743  0.01662588  0.01661279  0.01660199\n",
      "  0.01659718  0.01658391  0.01656872  0.01654694  0.0165305   0.01652267\n",
      "  0.01652139  0.01649788  0.01644067  0.01643486  0.01643106  0.01641634\n",
      "  0.01640254  0.01640197  0.01639798  0.01639364  0.01630489  0.01628404\n",
      "  0.01627351  0.01627154  0.01627095  0.01626317  0.01625873  0.01619972\n",
      "  0.01618316  0.0161807   0.01617298  0.01613027  0.01608449  0.01608147]\n"
     ]
    }
   ],
   "source": [
    "detections2 = detections\n",
    "#detections = detections[0,1:,4:]\n",
    "\n",
    "print(\"Detections shape \", detections.shape)\n",
    "print(detections[:, :3, 4:])\n",
    "\n",
    "\n",
    "predicted_labels = np.argmax(detections[0, :, 4:], axis=1)#orig\n",
    "#predicted_labels = detections[0, 1, 4:]\n",
    "#print(\"Predicted Labels > \", predicted_labels)\n",
    "\n",
    "scores = detections[0, np.arange(detections.shape[1]), 4 + predicted_labels]\n",
    "print(\"Scores shape > \", scores)\n",
    "\n"
   ]
  },
  {
   "cell_type": "code",
   "execution_count": 6,
   "metadata": {},
   "outputs": [],
   "source": [
    "idx=10\n",
    "# if score < 0.015:\n",
    "#     continue\n",
    "b = detections[0, idx, :4].astype(int)\n",
    "#print(\"b values> \", b)\n",
    "\n",
    "cv2.rectangle(draw, (b[0], b[1]), (b[2], b[3]), (255, 0, 0), 3)\n",
    "# caption = \"{} {:.3f}\".format(val_generator.label_to_name(label), score)\n",
    "caption = \"Tomate\"\n",
    "cv2.putText(draw, caption, (b[0], b[1] - 10), cv2.FONT_HERSHEY_PLAIN, 1.5, (0, 0, 0), 3)\n",
    "cv2.putText(draw, caption, (b[0], b[1] - 10), cv2.FONT_HERSHEY_PLAIN, 1.5, (255, 255, 255), 2)\n",
    "  \n",
    "draw = cv2.cvtColor(draw, cv2.COLOR_RGB2BGR)\n",
    "\n",
    "cv2.imshow(\"prueba\", draw)\n",
    "cv2.waitKey()\n",
    "cv2.destroyAllWindows()\n",
    "  "
   ]
  },
  {
   "cell_type": "code",
   "execution_count": null,
   "metadata": {},
   "outputs": [],
   "source": []
  }
 ],
 "metadata": {
  "kernelspec": {
   "display_name": "Python 3",
   "language": "python",
   "name": "python3"
  },
  "language_info": {
   "codemirror_mode": {
    "name": "ipython",
    "version": 3
   },
   "file_extension": ".py",
   "mimetype": "text/x-python",
   "name": "python",
   "nbconvert_exporter": "python",
   "pygments_lexer": "ipython3",
   "version": "3.5.4"
  }
 },
 "nbformat": 4,
 "nbformat_minor": 2
}
